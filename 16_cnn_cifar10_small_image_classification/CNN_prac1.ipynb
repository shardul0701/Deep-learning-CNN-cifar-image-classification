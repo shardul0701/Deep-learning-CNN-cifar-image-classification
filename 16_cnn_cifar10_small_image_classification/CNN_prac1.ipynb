{
 "cells": [
  {
   "cell_type": "code",
   "execution_count": 1,
   "metadata": {
    "executionInfo": {
     "elapsed": 1468,
     "status": "ok",
     "timestamp": 1626457167438,
     "user": {
      "displayName": "Shardul Mehetar",
      "photoUrl": "",
      "userId": "07749580615612774462"
     },
     "user_tz": -330
    },
    "id": "v3mKXgKfYibP"
   },
   "outputs": [],
   "source": [
    "import tensorflow as tf\n",
    "import pandas as pd\n",
    "import numpy as np\n",
    "import matplotlib.pyplot as plt\n",
    "from tensorflow.keras import datasets,models,layers"
   ]
  },
  {
   "cell_type": "code",
   "execution_count": 2,
   "metadata": {
    "colab": {
     "base_uri": "https://localhost:8080/"
    },
    "executionInfo": {
     "elapsed": 6630,
     "status": "ok",
     "timestamp": 1626457175680,
     "user": {
      "displayName": "Shardul Mehetar",
      "photoUrl": "",
      "userId": "07749580615612774462"
     },
     "user_tz": -330
    },
    "id": "9hMZUtJZZTba",
    "outputId": "7acd7067-6c4c-4211-dac9-78c3c2dd3781"
   },
   "outputs": [
    {
     "name": "stdout",
     "output_type": "stream",
     "text": [
      "Downloading data from https://www.cs.toronto.edu/~kriz/cifar-10-python.tar.gz\n",
      "170500096/170498071 [==============================] - 4s 0us/step\n"
     ]
    }
   ],
   "source": [
    "(X_train,y_train),(X_test,y_test)= datasets.cifar10.load_data()"
   ]
  },
  {
   "cell_type": "code",
   "execution_count": 3,
   "metadata": {
    "colab": {
     "base_uri": "https://localhost:8080/"
    },
    "executionInfo": {
     "elapsed": 382,
     "status": "ok",
     "timestamp": 1626457183362,
     "user": {
      "displayName": "Shardul Mehetar",
      "photoUrl": "",
      "userId": "07749580615612774462"
     },
     "user_tz": -330
    },
    "id": "5_Tp6mRuZtng",
    "outputId": "275808f9-2f49-4dc3-e955-7ab42cd11dae"
   },
   "outputs": [
    {
     "data": {
      "text/plain": [
       "(50000, 32, 32, 3)"
      ]
     },
     "execution_count": 3,
     "metadata": {
      "tags": []
     },
     "output_type": "execute_result"
    }
   ],
   "source": [
    "X_train.shape"
   ]
  },
  {
   "cell_type": "code",
   "execution_count": 4,
   "metadata": {
    "colab": {
     "base_uri": "https://localhost:8080/"
    },
    "executionInfo": {
     "elapsed": 365,
     "status": "ok",
     "timestamp": 1626457196526,
     "user": {
      "displayName": "Shardul Mehetar",
      "photoUrl": "",
      "userId": "07749580615612774462"
     },
     "user_tz": -330
    },
    "id": "-PQLcRGKZxCT",
    "outputId": "d399635b-0194-486f-b7db-854c318f9da8"
   },
   "outputs": [
    {
     "data": {
      "text/plain": [
       "(10000, 32, 32, 3)"
      ]
     },
     "execution_count": 4,
     "metadata": {
      "tags": []
     },
     "output_type": "execute_result"
    }
   ],
   "source": [
    "X_test.shape"
   ]
  },
  {
   "cell_type": "code",
   "execution_count": 5,
   "metadata": {
    "colab": {
     "base_uri": "https://localhost:8080/",
     "height": 283
    },
    "executionInfo": {
     "elapsed": 11,
     "status": "ok",
     "timestamp": 1626457226894,
     "user": {
      "displayName": "Shardul Mehetar",
      "photoUrl": "",
      "userId": "07749580615612774462"
     },
     "user_tz": -330
    },
    "id": "byb30ymTZ0Ql",
    "outputId": "d1d57e2b-55a9-45ff-9703-c7e2ce8efb47"
   },
   "outputs": [
    {
     "data": {
      "text/plain": [
       "<matplotlib.image.AxesImage at 0x7f5dcef6dc10>"
      ]
     },
     "execution_count": 5,
     "metadata": {
      "tags": []
     },
     "output_type": "execute_result"
    },
    {
     "data": {
      "image/png": "[encoded data removed]",
      "text/plain": [
       "<Figure size 432x288 with 1 Axes>"
      ]
     },
     "metadata": {
      "needs_background": "light",
      "tags": []
     },
     "output_type": "display_data"
    }
   ],
   "source": [
    "plt.imshow(X_train[0])"
   ]
  },
  {
   "cell_type": "code",
   "execution_count": 6,
   "metadata": {
    "executionInfo": {
     "elapsed": 358,
     "status": "ok",
     "timestamp": 1626457274229,
     "user": {
      "displayName": "Shardul Mehetar",
      "photoUrl": "",
      "userId": "07749580615612774462"
     },
     "user_tz": -330
    },
    "id": "ROCsglO5Z7mo"
   },
   "outputs": [],
   "source": [
    "classes = [\"airplane\",\"automobile\",\"bird\",\"cat\",\"deer\",\"dog\",\"frog\",\"horse\",\"ship\",\"truck\"]"
   ]
  },
  {
   "cell_type": "code",
   "execution_count": 7,
   "metadata": {
    "colab": {
     "base_uri": "https://localhost:8080/"
    },
    "executionInfo": {
     "elapsed": 368,
     "status": "ok",
     "timestamp": 1626457283569,
     "user": {
      "displayName": "Shardul Mehetar",
      "photoUrl": "",
      "userId": "07749580615612774462"
     },
     "user_tz": -330
    },
    "id": "JBLHpShUaHOt",
    "outputId": "90beb203-db5f-4ace-b5af-a2c74a61ed2a"
   },
   "outputs": [
    {
     "data": {
      "text/plain": [
       "(50000, 1)"
      ]
     },
     "execution_count": 7,
     "metadata": {
      "tags": []
     },
     "output_type": "execute_result"
    }
   ],
   "source": [
    "y_train.shape"
   ]
  },
  {
   "cell_type": "code",
   "execution_count": 8,
   "metadata": {
    "colab": {
     "base_uri": "https://localhost:8080/"
    },
    "executionInfo": {
     "elapsed": 363,
     "status": "ok",
     "timestamp": 1626457292952,
     "user": {
      "displayName": "Shardul Mehetar",
      "photoUrl": "",
      "userId": "07749580615612774462"
     },
     "user_tz": -330
    },
    "id": "hPwzH5GLaJgk",
    "outputId": "f64b5d53-da7c-44b6-da68-73ec669c76b2"
   },
   "outputs": [
    {
     "data": {
      "text/plain": [
       "array([[6],\n",
       "       [9],\n",
       "       [9],\n",
       "       [4],\n",
       "       [1]], dtype=uint8)"
      ]
     },
     "execution_count": 8,
     "metadata": {
      "tags": []
     },
     "output_type": "execute_result"
    }
   ],
   "source": [
    "y_train[:5]"
   ]
  },
  {
   "cell_type": "code",
   "execution_count": 9,
   "metadata": {
    "colab": {
     "base_uri": "https://localhost:8080/"
    },
    "executionInfo": {
     "elapsed": 355,
     "status": "ok",
     "timestamp": 1626457330383,
     "user": {
      "displayName": "Shardul Mehetar",
      "photoUrl": "",
      "userId": "07749580615612774462"
     },
     "user_tz": -330
    },
    "id": "nYNx-GM2aLzG",
    "outputId": "563cc744-c694-49f7-bbae-798e62f950e1"
   },
   "outputs": [
    {
     "data": {
      "text/plain": [
       "array([6, 9, 9, 4, 1], dtype=uint8)"
      ]
     },
     "execution_count": 9,
     "metadata": {
      "tags": []
     },
     "output_type": "execute_result"
    }
   ],
   "source": [
    "y_train=y_train.reshape(-1,)\n",
    "y_train[:5]"
   ]
  },
  {
   "cell_type": "code",
   "execution_count": 12,
   "metadata": {
    "executionInfo": {
     "elapsed": 358,
     "status": "ok",
     "timestamp": 1626457485851,
     "user": {
      "displayName": "Shardul Mehetar",
      "photoUrl": "",
      "userId": "07749580615612774462"
     },
     "user_tz": -330
    },
    "id": "7nGg6Wxga3vF"
   },
   "outputs": [],
   "source": [
    "y_test=y_test.reshape(-1,)"
   ]
  },
  {
   "cell_type": "code",
   "execution_count": 18,
   "metadata": {
    "executionInfo": {
     "elapsed": 357,
     "status": "ok",
     "timestamp": 1626457710650,
     "user": {
      "displayName": "Shardul Mehetar",
      "photoUrl": "",
      "userId": "07749580615612774462"
     },
     "user_tz": -330
    },
    "id": "Tit7u7UbaU8J"
   },
   "outputs": [],
   "source": [
    " def plot_photos(X,y,index):\n",
    "   plt.figure(figsize=(5,7))\n",
    "   plt.imshow(X[index])\n",
    "   plt.xlabel(classes[y[index]])\n",
    "  "
   ]
  },
  {
   "cell_type": "code",
   "execution_count": 22,
   "metadata": {
    "colab": {
     "base_uri": "https://localhost:8080/",
     "height": 341
    },
    "executionInfo": {
     "elapsed": 428,
     "status": "ok",
     "timestamp": 1626457821569,
     "user": {
      "displayName": "Shardul Mehetar",
      "photoUrl": "",
      "userId": "07749580615612774462"
     },
     "user_tz": -330
    },
    "id": "MJyJ7Qw_am5F",
    "outputId": "8ef6a185-a4b7-4222-8767-15e91ffd4306"
   },
   "outputs": [
    {
     "data": {
      "image/png": "[encoded data removed]",
      "text/plain": [
       "<Figure size 360x504 with 1 Axes>"
      ]
     },
     "metadata": {
      "needs_background": "light",
      "tags": []
     },
     "output_type": "display_data"
    }
   ],
   "source": [
    "plot_photos(X_train,y_train,90)"
   ]
  },
  {
   "cell_type": "code",
   "execution_count": 23,
   "metadata": {
    "executionInfo": {
     "elapsed": 959,
     "status": "ok",
     "timestamp": 1626457875634,
     "user": {
      "displayName": "Shardul Mehetar",
      "photoUrl": "",
      "userId": "07749580615612774462"
     },
     "user_tz": -330
    },
    "id": "X5FmLWaUbpAB"
   },
   "outputs": [],
   "source": [
    "X_train=X_train/255\n",
    "X_test=X_test/255"
   ]
  },
  {
   "cell_type": "code",
   "execution_count": 24,
   "metadata": {
    "colab": {
     "base_uri": "https://localhost:8080/"
    },
    "executionInfo": {
     "elapsed": 8,
     "status": "ok",
     "timestamp": 1626457883214,
     "user": {
      "displayName": "Shardul Mehetar",
      "photoUrl": "",
      "userId": "07749580615612774462"
     },
     "user_tz": -330
    },
    "id": "vxf7seidcZ6H",
    "outputId": "a7ac5c24-5a3e-4028-bddb-c18ffc6f8ef5"
   },
   "outputs": [
    {
     "data": {
      "text/plain": [
       "array([[[0.23137255, 0.24313725, 0.24705882],\n",
       "        [0.16862745, 0.18039216, 0.17647059],\n",
       "        [0.19607843, 0.18823529, 0.16862745],\n",
       "        ...,\n",
       "        [0.61960784, 0.51764706, 0.42352941],\n",
       "        [0.59607843, 0.49019608, 0.4       ],\n",
       "        [0.58039216, 0.48627451, 0.40392157]],\n",
       "\n",
       "       [[0.0627451 , 0.07843137, 0.07843137],\n",
       "        [0.        , 0.        , 0.        ],\n",
       "        [0.07058824, 0.03137255, 0.        ],\n",
       "        ...,\n",
       "        [0.48235294, 0.34509804, 0.21568627],\n",
       "        [0.46666667, 0.3254902 , 0.19607843],\n",
       "        [0.47843137, 0.34117647, 0.22352941]],\n",
       "\n",
       "       [[0.09803922, 0.09411765, 0.08235294],\n",
       "        [0.0627451 , 0.02745098, 0.        ],\n",
       "        [0.19215686, 0.10588235, 0.03137255],\n",
       "        ...,\n",
       "        [0.4627451 , 0.32941176, 0.19607843],\n",
       "        [0.47058824, 0.32941176, 0.19607843],\n",
       "        [0.42745098, 0.28627451, 0.16470588]],\n",
       "\n",
       "       ...,\n",
       "\n",
       "       [[0.81568627, 0.66666667, 0.37647059],\n",
       "        [0.78823529, 0.6       , 0.13333333],\n",
       "        [0.77647059, 0.63137255, 0.10196078],\n",
       "        ...,\n",
       "        [0.62745098, 0.52156863, 0.2745098 ],\n",
       "        [0.21960784, 0.12156863, 0.02745098],\n",
       "        [0.20784314, 0.13333333, 0.07843137]],\n",
       "\n",
       "       [[0.70588235, 0.54509804, 0.37647059],\n",
       "        [0.67843137, 0.48235294, 0.16470588],\n",
       "        [0.72941176, 0.56470588, 0.11764706],\n",
       "        ...,\n",
       "        [0.72156863, 0.58039216, 0.36862745],\n",
       "        [0.38039216, 0.24313725, 0.13333333],\n",
       "        [0.3254902 , 0.20784314, 0.13333333]],\n",
       "\n",
       "       [[0.69411765, 0.56470588, 0.45490196],\n",
       "        [0.65882353, 0.50588235, 0.36862745],\n",
       "        [0.70196078, 0.55686275, 0.34117647],\n",
       "        ...,\n",
       "        [0.84705882, 0.72156863, 0.54901961],\n",
       "        [0.59215686, 0.4627451 , 0.32941176],\n",
       "        [0.48235294, 0.36078431, 0.28235294]]])"
      ]
     },
     "execution_count": 24,
     "metadata": {
      "tags": []
     },
     "output_type": "execute_result"
    }
   ],
   "source": [
    "X_train[0]"
   ]
  },
  {
   "cell_type": "code",
   "execution_count": 31,
   "metadata": {
    "colab": {
     "base_uri": "https://localhost:8080/"
    },
    "executionInfo": {
     "elapsed": 354,
     "status": "ok",
     "timestamp": 1626458272137,
     "user": {
      "displayName": "Shardul Mehetar",
      "photoUrl": "",
      "userId": "07749580615612774462"
     },
     "user_tz": -330
    },
    "id": "Sv5XAiIJdw_i",
    "outputId": "6fb1f6a3-4177-49dc-930d-3a44e57f37d4"
   },
   "outputs": [
    {
     "name": "stdout",
     "output_type": "stream",
     "text": [
      "(10000,)\n"
     ]
    }
   ],
   "source": [
    "print(y_test.shape)"
   ]
  },
  {
   "cell_type": "markdown",
   "metadata": {
    "id": "sfITToWHcoTt"
   },
   "source": [
    " ANN TRAIL"
   ]
  },
  {
   "cell_type": "code",
   "execution_count": 28,
   "metadata": {
    "executionInfo": {
     "elapsed": 364,
     "status": "ok",
     "timestamp": 1626458181954,
     "user": {
      "displayName": "Shardul Mehetar",
      "photoUrl": "",
      "userId": "07749580615612774462"
     },
     "user_tz": -330
    },
    "id": "erS8QhArcbxd"
   },
   "outputs": [],
   "source": [
    "from tensorflow.keras.models import Sequential\n",
    "from tensorflow.keras.layers import Dense,Flatten,Activation\n"
   ]
  },
  {
   "cell_type": "code",
   "execution_count": 36,
   "metadata": {
    "executionInfo": {
     "elapsed": 388,
     "status": "ok",
     "timestamp": 1626458657277,
     "user": {
      "displayName": "Shardul Mehetar",
      "photoUrl": "",
      "userId": "07749580615612774462"
     },
     "user_tz": -330
    },
    "id": "S_K8SPtWc4dJ"
   },
   "outputs": [],
   "source": [
    "ann=Sequential()\n",
    "ann.add(Flatten(input_shape=(32,32,3)))\n",
    "ann.add(Dense(50,activation='relu'))\n",
    "ann.add(Dense(20,activation='relu'))\n",
    "ann.add(Dense(10,activation='softmax'))\n",
    "\n",
    "ann.compile(loss='sparse_categorical_crossentropy',optimizer='adam',metrics=['accuracy'])"
   ]
  },
  {
   "cell_type": "code",
   "execution_count": 37,
   "metadata": {
    "colab": {
     "base_uri": "https://localhost:8080/"
    },
    "executionInfo": {
     "elapsed": 37810,
     "status": "ok",
     "timestamp": 1626458695670,
     "user": {
      "displayName": "Shardul Mehetar",
      "photoUrl": "",
      "userId": "07749580615612774462"
     },
     "user_tz": -330
    },
    "id": "sJPcLkEReqzt",
    "outputId": "6959b00f-9304-4c2d-f1d4-a9618f7a3c59"
   },
   "outputs": [
    {
     "name": "stdout",
     "output_type": "stream",
     "text": [
      "Epoch 1/10\n",
      "1563/1563 [==============================] - 4s 2ms/step - loss: 1.9626 - accuracy: 0.2787\n",
      "Epoch 2/10\n",
      "1563/1563 [==============================] - 4s 2ms/step - loss: 1.8138 - accuracy: 0.3389\n",
      "Epoch 3/10\n",
      "1563/1563 [==============================] - 4s 2ms/step - loss: 1.7709 - accuracy: 0.3542\n",
      "Epoch 4/10\n",
      "1563/1563 [==============================] - 4s 2ms/step - loss: 1.7481 - accuracy: 0.3588\n",
      "Epoch 5/10\n",
      "1563/1563 [==============================] - 4s 2ms/step - loss: 1.7343 - accuracy: 0.3653\n",
      "Epoch 6/10\n",
      "1563/1563 [==============================] - 4s 2ms/step - loss: 1.7261 - accuracy: 0.3703\n",
      "Epoch 7/10\n",
      "1563/1563 [==============================] - 4s 2ms/step - loss: 1.7141 - accuracy: 0.3752\n",
      "Epoch 8/10\n",
      "1563/1563 [==============================] - 4s 2ms/step - loss: 1.7062 - accuracy: 0.3757\n",
      "Epoch 9/10\n",
      "1563/1563 [==============================] - 4s 2ms/step - loss: 1.6985 - accuracy: 0.3820\n",
      "Epoch 10/10\n",
      "1563/1563 [==============================] - 4s 2ms/step - loss: 1.6986 - accuracy: 0.3818\n"
     ]
    }
   ],
   "source": [
    "fit_model=ann.fit(X_train,y_train,epochs=10)"
   ]
  },
  {
   "cell_type": "code",
   "execution_count": 38,
   "metadata": {
    "colab": {
     "base_uri": "https://localhost:8080/"
    },
    "executionInfo": {
     "elapsed": 389,
     "status": "ok",
     "timestamp": 1626458709607,
     "user": {
      "displayName": "Shardul Mehetar",
      "photoUrl": "",
      "userId": "07749580615612774462"
     },
     "user_tz": -330
    },
    "id": "-rkBg5lke0wU",
    "outputId": "f1df9221-ff32-4f90-c732-1e4cdc09316a"
   },
   "outputs": [
    {
     "data": {
      "text/plain": [
       "0"
      ]
     },
     "execution_count": 38,
     "metadata": {
      "tags": []
     },
     "output_type": "execute_result"
    }
   ],
   "source": [
    "np.argmax(fit_model)"
   ]
  },
  {
   "cell_type": "code",
   "execution_count": 39,
   "metadata": {
    "colab": {
     "base_uri": "https://localhost:8080/"
    },
    "executionInfo": {
     "elapsed": 1041,
     "status": "ok",
     "timestamp": 1626458733703,
     "user": {
      "displayName": "Shardul Mehetar",
      "photoUrl": "",
      "userId": "07749580615612774462"
     },
     "user_tz": -330
    },
    "id": "CqymdThEfP86",
    "outputId": "7841d7a7-9274-4d34-ead3-6315fec4d38e"
   },
   "outputs": [
    {
     "name": "stdout",
     "output_type": "stream",
     "text": [
      "313/313 [==============================] - 1s 2ms/step - loss: 1.7003 - accuracy: 0.3755\n"
     ]
    },
    {
     "data": {
      "text/plain": [
       "[1.7002705335617065, 0.37549999356269836]"
      ]
     },
     "execution_count": 39,
     "metadata": {
      "tags": []
     },
     "output_type": "execute_result"
    }
   ],
   "source": [
    "ann.evaluate(X_test,y_test)"
   ]
  },
  {
   "cell_type": "code",
   "execution_count": 43,
   "metadata": {
    "colab": {
     "base_uri": "https://localhost:8080/"
    },
    "executionInfo": {
     "elapsed": 732,
     "status": "ok",
     "timestamp": 1626458865632,
     "user": {
      "displayName": "Shardul Mehetar",
      "photoUrl": "",
      "userId": "07749580615612774462"
     },
     "user_tz": -330
    },
    "id": "9KA1LpflfrYS",
    "outputId": "d68cc79c-272f-4bb1-ebcc-099bed188dad"
   },
   "outputs": [
    {
     "name": "stderr",
     "output_type": "stream",
     "text": [
      "/usr/local/lib/python3.7/dist-packages/tensorflow/python/keras/engine/sequential.py:455: UserWarning: `model.predict_classes()` is deprecated and will be removed after 2021-01-01. Please use instead:* `np.argmax(model.predict(x), axis=-1)`,   if your model does multi-class classification   (e.g. if it uses a `softmax` last-layer activation).* `(model.predict(x) > 0.5).astype(\"int32\")`,   if your model does binary classification   (e.g. if it uses a `sigmoid` last-layer activation).\n",
      "  warnings.warn('`model.predict_classes()` is deprecated and '\n"
     ]
    },
    {
     "name": "stdout",
     "output_type": "stream",
     "text": [
      "0.3755\n"
     ]
    }
   ],
   "source": [
    "from sklearn.metrics import accuracy_score,confusion_matrix,classification_report\n",
    "y_pred=ann.predict_classes(X_test)\n",
    "accuracy=accuracy_score(y_test,y_pred)\n",
    "print(accuracy)"
   ]
  },
  {
   "cell_type": "code",
   "execution_count": 45,
   "metadata": {
    "colab": {
     "base_uri": "https://localhost:8080/"
    },
    "executionInfo": {
     "elapsed": 622,
     "status": "ok",
     "timestamp": 1626458901096,
     "user": {
      "displayName": "Shardul Mehetar",
      "photoUrl": "",
      "userId": "07749580615612774462"
     },
     "user_tz": -330
    },
    "id": "o1NSjP2_f96x",
    "outputId": "94c36fe7-ed79-4172-e5a3-809a63528b5f"
   },
   "outputs": [
    {
     "name": "stdout",
     "output_type": "stream",
     "text": [
      "              precision    recall  f1-score   support\n",
      "\n",
      "           0       0.48      0.41      0.44      1000\n",
      "           1       0.42      0.60      0.49      1000\n",
      "           2       0.30      0.17      0.21      1000\n",
      "           3       0.24      0.26      0.25      1000\n",
      "           4       0.31      0.25      0.28      1000\n",
      "           5       0.40      0.18      0.25      1000\n",
      "           6       0.31      0.67      0.42      1000\n",
      "           7       0.49      0.39      0.43      1000\n",
      "           8       0.44      0.53      0.48      1000\n",
      "           9       0.47      0.29      0.36      1000\n",
      "\n",
      "    accuracy                           0.38     10000\n",
      "   macro avg       0.39      0.38      0.36     10000\n",
      "weighted avg       0.39      0.38      0.36     10000\n",
      "\n"
     ]
    }
   ],
   "source": [
    "print(classification_report(y_test,y_pred))"
   ]
  },
  {
   "cell_type": "markdown",
   "metadata": {
    "id": "yW7cnsmfgaRz"
   },
   "source": [
    "CNN TRAIL"
   ]
  },
  {
   "cell_type": "code",
   "execution_count": 46,
   "metadata": {
    "executionInfo": {
     "elapsed": 368,
     "status": "ok",
     "timestamp": 1626459108070,
     "user": {
      "displayName": "Shardul Mehetar",
      "photoUrl": "",
      "userId": "07749580615612774462"
     },
     "user_tz": -330
    },
    "id": "HkQ-qOlHgOP6"
   },
   "outputs": [],
   "source": [
    "from tensorflow.keras.layers import Conv2D,MaxPooling2D\n"
   ]
  },
  {
   "cell_type": "code",
   "execution_count": 65,
   "metadata": {
    "executionInfo": {
     "elapsed": 366,
     "status": "ok",
     "timestamp": 1626459957727,
     "user": {
      "displayName": "Shardul Mehetar",
      "photoUrl": "",
      "userId": "07749580615612774462"
     },
     "user_tz": -330
    },
    "id": "RrijOkLbhG8F"
   },
   "outputs": [],
   "source": [
    "cnn=Sequential()\n",
    "cnn.add(Conv2D(filters=32,kernel_size=(3,3),activation='relu',input_shape=(32,32,3)))\n",
    "cnn.add(MaxPooling2D((2,2)))\n",
    "cnn.add(Conv2D(filters=64,kernel_size=(3,3),activation='relu'))\n",
    "cnn.add(MaxPooling2D((2,2)))\n",
    "\n",
    "cnn.add(Flatten())\n",
    "cnn.add(Dense(64,activation='relu'))\n",
    "cnn.add(Dense(10,activation='softmax'))\n",
    "\n",
    "cnn.compile(optimizer='adam',\n",
    "              loss='sparse_categorical_crossentropy',\n",
    "              metrics=['accuracy'])"
   ]
  },
  {
   "cell_type": "code",
   "execution_count": 66,
   "metadata": {
    "colab": {
     "base_uri": "https://localhost:8080/"
    },
    "executionInfo": {
     "elapsed": 53029,
     "status": "ok",
     "timestamp": 1626460011190,
     "user": {
      "displayName": "Shardul Mehetar",
      "photoUrl": "",
      "userId": "07749580615612774462"
     },
     "user_tz": -330
    },
    "id": "foPagB10hIwJ",
    "outputId": "83b3772b-9919-4eb9-81bd-228f0246a3c8"
   },
   "outputs": [
    {
     "name": "stdout",
     "output_type": "stream",
     "text": [
      "Epoch 1/10\n",
      "1563/1563 [==============================] - 5s 3ms/step - loss: 1.4480 - accuracy: 0.4799\n",
      "Epoch 2/10\n",
      "1563/1563 [==============================] - 5s 3ms/step - loss: 1.1144 - accuracy: 0.6082\n",
      "Epoch 3/10\n",
      "1563/1563 [==============================] - 5s 3ms/step - loss: 0.9849 - accuracy: 0.6563\n",
      "Epoch 4/10\n",
      "1563/1563 [==============================] - 5s 3ms/step - loss: 0.9053 - accuracy: 0.6837\n",
      "Epoch 5/10\n",
      "1563/1563 [==============================] - 5s 3ms/step - loss: 0.8381 - accuracy: 0.7087\n",
      "Epoch 6/10\n",
      "1563/1563 [==============================] - 5s 3ms/step - loss: 0.7822 - accuracy: 0.7277\n",
      "Epoch 7/10\n",
      "1563/1563 [==============================] - 5s 3ms/step - loss: 0.7353 - accuracy: 0.7455\n",
      "Epoch 8/10\n",
      "1563/1563 [==============================] - 5s 3ms/step - loss: 0.6894 - accuracy: 0.7599\n",
      "Epoch 9/10\n",
      "1563/1563 [==============================] - 5s 3ms/step - loss: 0.6464 - accuracy: 0.7737\n",
      "Epoch 10/10\n",
      "1563/1563 [==============================] - 5s 3ms/step - loss: 0.6079 - accuracy: 0.7873\n"
     ]
    },
    {
     "data": {
      "text/plain": [
       "<tensorflow.python.keras.callbacks.History at 0x7f5cfa609b50>"
      ]
     },
     "execution_count": 66,
     "metadata": {
      "tags": []
     },
     "output_type": "execute_result"
    }
   ],
   "source": [
    "cnn.fit(X_train,y_train,epochs=10)"
   ]
  },
  {
   "cell_type": "code",
   "execution_count": 68,
   "metadata": {
    "colab": {
     "base_uri": "https://localhost:8080/"
    },
    "executionInfo": {
     "elapsed": 957,
     "status": "ok",
     "timestamp": 1626460036258,
     "user": {
      "displayName": "Shardul Mehetar",
      "photoUrl": "",
      "userId": "07749580615612774462"
     },
     "user_tz": -330
    },
    "id": "zBX5xtkKijHf",
    "outputId": "08a5cf2f-cc05-4ca9-ec14-4c861e8145f0"
   },
   "outputs": [
    {
     "name": "stdout",
     "output_type": "stream",
     "text": [
      "313/313 [==============================] - 1s 2ms/step - loss: 0.9840 - accuracy: 0.6874\n"
     ]
    },
    {
     "data": {
      "text/plain": [
       "[0.9840136766433716, 0.6873999834060669]"
      ]
     },
     "execution_count": 68,
     "metadata": {
      "tags": []
     },
     "output_type": "execute_result"
    }
   ],
   "source": [
    "cnn.evaluate(X_test,y_test)"
   ]
  },
  {
   "cell_type": "code",
   "execution_count": 70,
   "metadata": {
    "colab": {
     "base_uri": "https://localhost:8080/"
    },
    "executionInfo": {
     "elapsed": 637,
     "status": "ok",
     "timestamp": 1626460162611,
     "user": {
      "displayName": "Shardul Mehetar",
      "photoUrl": "",
      "userId": "07749580615612774462"
     },
     "user_tz": -330
    },
    "id": "-zA-lb1Oky9H",
    "outputId": "3b86e44f-dc57-48ae-c88f-59451e749621"
   },
   "outputs": [
    {
     "name": "stderr",
     "output_type": "stream",
     "text": [
      "/usr/local/lib/python3.7/dist-packages/tensorflow/python/keras/engine/sequential.py:455: UserWarning: `model.predict_classes()` is deprecated and will be removed after 2021-01-01. Please use instead:* `np.argmax(model.predict(x), axis=-1)`,   if your model does multi-class classification   (e.g. if it uses a `softmax` last-layer activation).* `(model.predict(x) > 0.5).astype(\"int32\")`,   if your model does binary classification   (e.g. if it uses a `sigmoid` last-layer activation).\n",
      "  warnings.warn('`model.predict_classes()` is deprecated and '\n"
     ]
    },
    {
     "data": {
      "text/plain": [
       "0.6874"
      ]
     },
     "execution_count": 70,
     "metadata": {
      "tags": []
     },
     "output_type": "execute_result"
    }
   ],
   "source": [
    "y_pred=cnn.predict_classes(X_test)\n",
    "accuracy_score(y_test,y_pred)"
   ]
  },
  {
   "cell_type": "code",
   "execution_count": 72,
   "metadata": {
    "colab": {
     "base_uri": "https://localhost:8080/"
    },
    "executionInfo": {
     "elapsed": 947,
     "status": "ok",
     "timestamp": 1626460279462,
     "user": {
      "displayName": "Shardul Mehetar",
      "photoUrl": "",
      "userId": "07749580615612774462"
     },
     "user_tz": -330
    },
    "id": "ZJRkJIRElGvK",
    "outputId": "5368956c-0b1f-4d81-cc5f-be3cdacb9dc3"
   },
   "outputs": [
    {
     "data": {
      "text/plain": [
       "array([[1.29116408e-03, 1.81512733e-05, 8.79587233e-03, 9.31923926e-01,\n",
       "        2.90697470e-04, 1.88625269e-02, 9.64677334e-03, 8.97919290e-06,\n",
       "        2.91522089e-02, 9.64010451e-06],\n",
       "       [3.32951546e-04, 2.15207622e-03, 3.88656019e-07, 8.74856099e-08,\n",
       "        4.52513760e-09, 6.82414736e-10, 4.80516625e-12, 6.12423307e-11,\n",
       "        9.97511506e-01, 2.92354275e-06],\n",
       "       [1.50982097e-01, 5.08147180e-02, 1.36998118e-04, 3.22445703e-04,\n",
       "        2.41347108e-04, 7.54772409e-05, 7.25806312e-05, 7.40936142e-04,\n",
       "        7.59627998e-01, 3.69853862e-02],\n",
       "       [8.73095214e-01, 2.11532600e-03, 6.48188463e-04, 9.00954474e-05,\n",
       "        4.92173829e-04, 1.47483740e-06, 3.07475893e-05, 1.47891424e-05,\n",
       "        1.23347804e-01, 1.64309546e-04],\n",
       "       [9.81189442e-06, 1.07819833e-05, 6.56813337e-03, 6.19472051e-03,\n",
       "        9.49891627e-01, 2.44202535e-03, 3.47965062e-02, 6.33433738e-05,\n",
       "        2.03973505e-05, 2.62302706e-06]], dtype=float32)"
      ]
     },
     "execution_count": 72,
     "metadata": {
      "tags": []
     },
     "output_type": "execute_result"
    }
   ],
   "source": [
    "y_pred = cnn.predict(X_test)\n",
    "y_pred[:5]"
   ]
  },
  {
   "cell_type": "code",
   "execution_count": 81,
   "metadata": {
    "colab": {
     "base_uri": "https://localhost:8080/"
    },
    "executionInfo": {
     "elapsed": 371,
     "status": "ok",
     "timestamp": 1626460509896,
     "user": {
      "displayName": "Shardul Mehetar",
      "photoUrl": "",
      "userId": "07749580615612774462"
     },
     "user_tz": -330
    },
    "id": "m-gepr25lgPD",
    "outputId": "610592c9-7c47-4607-cc0a-e5e45e3a7ce1"
   },
   "outputs": [
    {
     "data": {
      "text/plain": [
       "[3, 8, 8, 0, 4, 6, 1, 6, 4, 1]"
      ]
     },
     "execution_count": 81,
     "metadata": {
      "tags": []
     },
     "output_type": "execute_result"
    }
   ],
   "source": [
    "y_classes = [np.argmax(element) for element in y_pred]\n",
    "y_classes[:10]"
   ]
  },
  {
   "cell_type": "code",
   "execution_count": 82,
   "metadata": {
    "colab": {
     "base_uri": "https://localhost:8080/"
    },
    "executionInfo": {
     "elapsed": 358,
     "status": "ok",
     "timestamp": 1626460513504,
     "user": {
      "displayName": "Shardul Mehetar",
      "photoUrl": "",
      "userId": "07749580615612774462"
     },
     "user_tz": -330
    },
    "id": "UUYJ0FLclq1s",
    "outputId": "b35cfe86-3b1f-41b0-aa53-905b4e5f239a"
   },
   "outputs": [
    {
     "data": {
      "text/plain": [
       "array([3, 8, 8, 0, 6, 6, 1, 6, 3, 1], dtype=uint8)"
      ]
     },
     "execution_count": 82,
     "metadata": {
      "tags": []
     },
     "output_type": "execute_result"
    }
   ],
   "source": [
    "y_test[:10]"
   ]
  },
  {
   "cell_type": "code",
   "execution_count": 83,
   "metadata": {
    "colab": {
     "base_uri": "https://localhost:8080/",
     "height": 341
    },
    "executionInfo": {
     "elapsed": 414,
     "status": "ok",
     "timestamp": 1626460550823,
     "user": {
      "displayName": "Shardul Mehetar",
      "photoUrl": "",
      "userId": "07749580615612774462"
     },
     "user_tz": -330
    },
    "id": "zxS-8L-olt5Q",
    "outputId": "b27e88c0-372b-45f3-d9b7-668d3b82b330"
   },
   "outputs": [
    {
     "data": {
      "image/png": "[encoded data removed]",
      "text/plain": [
       "<Figure size 360x504 with 1 Axes>"
      ]
     },
     "metadata": {
      "needs_background": "light",
      "tags": []
     },
     "output_type": "display_data"
    }
   ],
   "source": [
    "plot_photos(X_test,y_test,2)"
   ]
  },
  {
   "cell_type": "code",
   "execution_count": 84,
   "metadata": {
    "colab": {
     "base_uri": "https://localhost:8080/"
    },
    "executionInfo": {
     "elapsed": 5,
     "status": "ok",
     "timestamp": 1626460553517,
     "user": {
      "displayName": "Shardul Mehetar",
      "photoUrl": "",
      "userId": "07749580615612774462"
     },
     "user_tz": -330
    },
    "id": "V1Qq1cpKmERh",
    "outputId": "68fc7b72-4fec-4968-fa41-b29a0986ebe9"
   },
   "outputs": [
    {
     "name": "stdout",
     "output_type": "stream",
     "text": [
      "ship\n"
     ]
    }
   ],
   "source": [
    "print(classes[y_classes[2]])"
   ]
  },
  {
   "cell_type": "code",
   "execution_count": null,
   "metadata": {
    "id": "v8yZkKjimTmR"
   },
   "outputs": [],
   "source": []
  }
 ],
 "metadata": {
  "accelerator": "GPU",
  "colab": {
   "authorship_tag": "ABX9TyPCCTm+oL6tfZFjTSK35gN/",
   "collapsed_sections": [],
   "mount_file_id": "1dwm0dSFHK7nlXOFwNEvG8_1I392Wd3l1",
   "name": "CNN_prac1.ipynb",
   "provenance": []
  },
  "kernelspec": {
   "display_name": "Python 3",
   "language": "python",
   "name": "python3"
  },
  "language_info": {
   "codemirror_mode": {
    "name": "ipython",
    "version": 3
   },
   "file_extension": ".py",
   "mimetype": "text/x-python",
   "name": "python",
   "nbconvert_exporter": "python",
   "pygments_lexer": "ipython3",
   "version": "3.7.0"
  }
 },
 "nbformat": 4,
 "nbformat_minor": 1
}
